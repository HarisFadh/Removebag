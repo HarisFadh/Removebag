{
 "cells": [
  {
   "cell_type": "markdown",
   "metadata": {},
   "source": [
    "# Menghapus background secara manual"
   ]
  },
  {
   "cell_type": "code",
   "execution_count": 30,
   "metadata": {},
   "outputs": [],
   "source": [
    "import cv2\n",
    "import numpy as np\n",
    "import matplotlib.pyplot as plt\n",
    "%matplotlib inline\n",
    "from imageio import imread"
   ]
  },
  {
   "cell_type": "code",
   "execution_count": 32,
   "metadata": {},
   "outputs": [],
   "source": [
    "def remove_background(image):\n",
    "    # Konversi gambar ke dalam mode warna HSV\n",
    "    hsv = cv2.cvtColor(image, cv2.COLOR_BGR2HSV)\n",
    "\n",
    "    # Tentukan rentang warna\n",
    "    lower = np.array([0, 20, 70])\n",
    "    upper = np.array([30, 255, 255])\n",
    "\n",
    "    # Buat mask dengan menggunakan rentang warna\n",
    "    mask = cv2.inRange(hsv, lower, upper)\n",
    "\n",
    "    # Terapkan operasi morfologi untuk membersihkan mask\n",
    "    kernel = np.ones((5, 5), np.uint8)\n",
    "    mask = cv2.morphologyEx(mask, cv2.MORPH_OPEN, kernel, iterations=2)\n",
    "    mask = cv2.morphologyEx(mask, cv2.MORPH_CLOSE, kernel, iterations=2)\n",
    "\n",
    "    # Balikkan mask untuk mendapatkan objek tanpa latar belakang\n",
    "    result = cv2.bitwise_and(image, image, mask=mask)\n",
    "\n",
    "    return result"
   ]
  },
  {
   "cell_type": "code",
   "execution_count": 33,
   "metadata": {},
   "outputs": [],
   "source": [
    "# Baca gambar\n",
    "image = cv2.imread('tangan.jpg')\n",
    "\n",
    "# Hapus latar belakang\n",
    "result = remove_background(image)\n",
    "\n",
    "# Tampilkan gambar asli dan hasilnya\n",
    "cv2.imshow('Original Image', image)\n",
    "cv2.imshow('Result', result)\n",
    "cv2.waitKey(0)\n",
    "cv2.destroyAllWindows()"
   ]
  },
  {
   "cell_type": "code",
   "execution_count": null,
   "metadata": {},
   "outputs": [],
   "source": []
  }
 ],
 "metadata": {
  "kernelspec": {
   "display_name": "Python 3",
   "language": "python",
   "name": "python3"
  },
  "language_info": {
   "codemirror_mode": {
    "name": "ipython",
    "version": 3
   },
   "file_extension": ".py",
   "mimetype": "text/x-python",
   "name": "python",
   "nbconvert_exporter": "python",
   "pygments_lexer": "ipython3",
   "version": "3.8.5"
  }
 },
 "nbformat": 4,
 "nbformat_minor": 4
}
